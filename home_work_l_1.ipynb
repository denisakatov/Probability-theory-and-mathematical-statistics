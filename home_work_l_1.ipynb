{
 "cells": [
  {
   "cell_type": "code",
   "execution_count": 4,
   "metadata": {},
   "outputs": [],
   "source": [
    "import numpy as np\n",
    "from math import factorial as fc"
   ]
  },
  {
   "cell_type": "markdown",
   "metadata": {},
   "source": [
    "## Задача 1 Из колоды в 52 карты вынимают случайным образом 4 карты. Найти число исходов, соответствующих тому, что был вытянут хотя бы один туз.\n"
   ]
  },
  {
   "cell_type": "markdown",
   "metadata": {},
   "source": [
    "### Находим варианты вытягивания одного туза из 4-х. Затем варинты 3-х нетузов из оставшихся 48 карт и умножаем друг на друга."
   ]
  },
  {
   "cell_type": "code",
   "execution_count": 5,
   "metadata": {
    "scrolled": true
   },
   "outputs": [
    {
     "data": {
      "text/plain": [
       "4.0"
      ]
     },
     "execution_count": 5,
     "metadata": {},
     "output_type": "execute_result"
    }
   ],
   "source": [
    "n = 48 # Количество карт в колоде БЕЗ ТУЗОВ\n",
    "aises = 4 #  Количество тузов\n",
    "# вариантов тузов:\n",
    "ais = fc(4)/(fc(1)*fc(4-1))\n",
    "ais # Варианты при наличии хотя бы 1 туза"
   ]
  },
  {
   "cell_type": "code",
   "execution_count": 6,
   "metadata": {},
   "outputs": [
    {
     "data": {
      "text/plain": [
       "17296.0"
      ]
     },
     "execution_count": 6,
     "metadata": {},
     "output_type": "execute_result"
    }
   ],
   "source": [
    "other = fc(n)/(fc(3)*fc(n-3))\n",
    "other"
   ]
  },
  {
   "cell_type": "code",
   "execution_count": 7,
   "metadata": {
    "scrolled": false
   },
   "outputs": [
    {
     "data": {
      "text/plain": [
       "69184.0"
      ]
     },
     "execution_count": 7,
     "metadata": {},
     "output_type": "execute_result"
    }
   ],
   "source": [
    "result1 = other*ais\n",
    "result1"
   ]
  },
  {
   "cell_type": "markdown",
   "metadata": {},
   "source": [
    "## Задача 2\n",
    "\n",
    "Семь человек рассаживаются наудачу на скамейке. Какова вероятность того, что рядом будут сидеть: а) два определённых человека? б) три определённых человека?\n"
   ]
  },
  {
   "cell_type": "code",
   "execution_count": 8,
   "metadata": {},
   "outputs": [
    {
     "data": {
      "text/plain": [
       "0.2857142857142857"
      ]
     },
     "execution_count": 8,
     "metadata": {},
     "output_type": "execute_result"
    }
   ],
   "source": [
    "n = 7\n",
    "k2 = 2\n",
    "k3 = 3\n",
    "\n",
    "\n",
    "# Два человека могут составить 2! сочетание. Оставшиеся 5 формируют 5! сочетаний. Всего можем сформировать 6 вариантов \n",
    "# скамеек из одной пары.\n",
    "#   xxooooo\n",
    "#   oxxoooo\n",
    "#   ooxxooo\n",
    "#   oooxxoo\n",
    "#   ooooxxo\n",
    "#   oooooxx\n",
    "        \n",
    "m = fc(2)*fc(5)*6\n",
    "p = m/fc(n)\n",
    "p"
   ]
  },
  {
   "cell_type": "code",
   "execution_count": 9,
   "metadata": {},
   "outputs": [
    {
     "data": {
      "text/plain": [
       "0.14285714285714285"
      ]
     },
     "execution_count": 9,
     "metadata": {},
     "output_type": "execute_result"
    }
   ],
   "source": [
    "# Три человека могут составить 3! сочетаний. Оставшиеся 5 формируют 5! сочетаний. Всего можем сформировать 5 вариантов \n",
    "# скамеек из трех человек.\n",
    "#   xxxoooo\n",
    "#   oxxxooo\n",
    "#   ooxxxoo\n",
    "#   oooxxxo\n",
    "#   ooooxxx\n",
    "\n",
    "\n",
    "m = fc(3)*fc(4)*5\n",
    "p = m/fc(n)\n",
    "p"
   ]
  },
  {
   "cell_type": "markdown",
   "metadata": {},
   "source": [
    "## Задача 3\n",
    "\n",
    "Из 60 вопросов, входящих в экзаменационные билеты, студент знает 50. Какова вероятность того, что среди трёх наугад выбранных вопросов студент знает: а) все? б) два?"
   ]
  },
  {
   "cell_type": "code",
   "execution_count": 24,
   "metadata": {},
   "outputs": [
    {
     "data": {
      "text/plain": [
       "34220.0"
      ]
     },
     "execution_count": 24,
     "metadata": {},
     "output_type": "execute_result"
    }
   ],
   "source": [
    "n = 60 # количество вопросов\n",
    "m = 50 # количество вопросов, которые студент знает\n",
    "c2 = 2 # знает 2 вопроса\n",
    "c3 = 3 # знает 3 вопроса\n",
    "cn = fc(n)/(fc(c3)*fc(n-c3))\n",
    "cn\n"
   ]
  },
  {
   "cell_type": "code",
   "execution_count": 25,
   "metadata": {},
   "outputs": [
    {
     "data": {
      "text/plain": [
       "19600.0"
      ]
     },
     "execution_count": 25,
     "metadata": {},
     "output_type": "execute_result"
    }
   ],
   "source": [
    "c3m = fc(m)/(fc(c3)*fc(m-c3))# количество сочетаний 3 вопросов\n",
    "c3m"
   ]
  },
  {
   "cell_type": "code",
   "execution_count": 26,
   "metadata": {},
   "outputs": [
    {
     "data": {
      "text/plain": [
       "0.5727644652250146"
      ]
     },
     "execution_count": 26,
     "metadata": {},
     "output_type": "execute_result"
    }
   ],
   "source": [
    "p = c3m/cn\n",
    "p #Вероятность того, что судент знает все три вопроса"
   ]
  },
  {
   "cell_type": "code",
   "execution_count": 215,
   "metadata": {},
   "outputs": [
    {
     "name": "stdout",
     "output_type": "stream",
     "text": [
      "1225.0 34220.0 10.0\n"
     ]
    }
   ],
   "source": [
    "cm2 = fc(m)/(fc(c2)*fc(m-c2))\n",
    "cn_unknown = fc(10)/(fc(1)*fc(10-1))# варианты из вопросов, которые студент не знает\n",
    "print(cm2, cn, cn_unknown)"
   ]
  },
  {
   "cell_type": "code",
   "execution_count": 216,
   "metadata": {},
   "outputs": [
    {
     "data": {
      "image/png": "[encoded data removed]",
      "text/latex": [
       "$\\displaystyle 0.35797779076563413$"
      ],
      "text/plain": [
       "0.35797779076563413"
      ]
     },
     "execution_count": 216,
     "metadata": {},
     "output_type": "execute_result"
    }
   ],
   "source": [
    "p = cm2*cn_unknown/cn\n",
    "p"
   ]
  },
  {
   "cell_type": "markdown",
   "metadata": {},
   "source": [
    "## Задача 4\n",
    "\n",
    "Бросается игральная кость. Пусть событие A - появление чётного числа, событие B - появление числа больше трёх. Являются ли эти события независимыми?"
   ]
  },
  {
   "cell_type": "code",
   "execution_count": 27,
   "metadata": {},
   "outputs": [],
   "source": [
    "n = 6"
   ]
  },
  {
   "cell_type": "code",
   "execution_count": 29,
   "metadata": {},
   "outputs": [],
   "source": [
    "even = 3\n",
    "more3 = 3\n",
    "p_even = 3/6\n",
    "p_more3 = 3/6\n",
    "p_more3_even = 2/6 # Всего 2 числа, которые больше 3 - это 4 и 6"
   ]
  },
  {
   "cell_type": "code",
   "execution_count": 30,
   "metadata": {},
   "outputs": [
    {
     "name": "stdout",
     "output_type": "stream",
     "text": [
      "Вероятность выпадения четных при выпадении более 3 - 0.6666666666666666, вероятность выпадения четных - 0.5 = вероятности выпадения более 3 - 0.5\n"
     ]
    }
   ],
   "source": [
    "p_even_if_more3 = p_more3_even/p_more3\n",
    "print(f'Вероятность выпадения четных при выпадении более 3 - {p_even_if_more3}, вероятность выпадения четных - {p_even} = вероятности выпадения более 3 - {p_more3}')"
   ]
  },
  {
   "cell_type": "markdown",
   "metadata": {},
   "source": [
    "### Вывод: Так как (A|B) != A, события не зависимы"
   ]
  },
  {
   "cell_type": "markdown",
   "metadata": {},
   "source": [
    "## Задача 5\n",
    "\n",
    "Допустим, имеется некоторая очень редкая болезнь (поражает 0.1% населения). Вы приходите к врачу, вам делают тест на эту болезнь, и тест оказывается положительным. Врач говорит вам, что этот тест верно выявляет 99% больных этой болезнью и всего лишь в 1% случаев даёт ложный положительный ответ.\n",
    "\n",
    "Вопрос: какова вероятность, что вы действительно больны ей?\n",
    "\n",
    "Подсказка: вновь используйте формулу Байеса с раскрытием знаменателя с помощью формулы полной вероятности."
   ]
  },
  {
   "cell_type": "code",
   "execution_count": 31,
   "metadata": {},
   "outputs": [],
   "source": [
    "d = 0.001 # disease - вероятность болезни\n",
    "h = 0.999 # health - вероятность здоровья"
   ]
  },
  {
   "cell_type": "code",
   "execution_count": 32,
   "metadata": {},
   "outputs": [],
   "source": [
    "p = 0.99 # positiv - вероятность корректного результата теста\n",
    "f = 0.01 # false - вероятность ложного результата теста"
   ]
  },
  {
   "cell_type": "code",
   "execution_count": 33,
   "metadata": {},
   "outputs": [
    {
     "name": "stdout",
     "output_type": "stream",
     "text": [
      "0.00099 0.00999\n"
     ]
    }
   ],
   "source": [
    "print(d*p, h*f)"
   ]
  },
  {
   "cell_type": "code",
   "execution_count": 34,
   "metadata": {},
   "outputs": [
    {
     "data": {
      "text/plain": [
       "0.01098"
      ]
     },
     "execution_count": 34,
     "metadata": {},
     "output_type": "execute_result"
    }
   ],
   "source": [
    "P_d = d*p+h*f # Считаем полную вероятность положительных результатов\n",
    "P_d"
   ]
  },
  {
   "cell_type": "code",
   "execution_count": 35,
   "metadata": {},
   "outputs": [
    {
     "data": {
      "text/plain": [
       "0.9098360655737705"
      ]
     },
     "execution_count": 35,
     "metadata": {},
     "output_type": "execute_result"
    }
   ],
   "source": [
    "P_h_f = h*f/P_d #Вероятность положительного теста у здорового\n",
    "P_h_f"
   ]
  },
  {
   "cell_type": "markdown",
   "metadata": {},
   "source": [
    "P.S. Какая-то цифра большая получается!"
   ]
  }
 ],
 "metadata": {
  "kernelspec": {
   "display_name": "Python 3",
   "language": "python",
   "name": "python3"
  },
  "language_info": {
   "codemirror_mode": {
    "name": "ipython",
    "version": 3
   },
   "file_extension": ".py",
   "mimetype": "text/x-python",
   "name": "python",
   "nbconvert_exporter": "python",
   "pygments_lexer": "ipython3",
   "version": "3.7.3"
  }
 },
 "nbformat": 4,
 "nbformat_minor": 2
}
