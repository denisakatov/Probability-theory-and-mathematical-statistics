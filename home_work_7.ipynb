{
 "cells": [
  {
   "cell_type": "markdown",
   "metadata": {},
   "source": [
    "### Задача 1\n",
    "\n",
    "Дана матрица объект-признак\n",
    "\n",
    "X = [[ 1.22401313,  2.30868478,  3.03636353,  2.69287214],\n",
    "     [-0.18757272,  1.30337355,  5.12093014,  3.46363202],\n",
    "     [-0.81094525,  1.82463398,  5.79686488,  1.86159445],\n",
    "     [ 0.75129018,  2.67392052,  3.65529809,  1.66746094],\n",
    "     [ 0.00972362,  1.97367255,  2.50594319,  1.69755173],\n",
    "     [-0.62972637,  0.77750764,  2.84124027,  4.54410559],\n",
    "     [ 2.29536229,  1.81206697,  1.95026215,  1.51874636],\n",
    "     [ 0.0920418 ,  2.26971361,  7.47708735,  2.61081203],\n",
    "     [ 2.39252799,  3.17563985,  3.61420599,  5.10773362],\n",
    "     [ 0.54983815,  2.87988651,  1.65752765,  1.59635987]]\n",
    "\n",
    "и значения целевой переменной\n",
    "\n",
    "y = [ 9.26193358,  9.700363  ,  8.67214805,  8.74796974,  6.18689108,\n",
    "      7.53312713,  7.57643777, 12.44965478, 14.29010746,  6.68361218]\n",
    "\n",
    "    Подберите два признака (из четырёх) так, чтобы уровень линейной зависимости целевой переменной от значений этих признаков был максимальным. Другими словами, модель линейной регрессии на этих признаках должна давать наилучший результат.\n",
    "    Является ли значимым получившееся уравнение регрессии?\n"
   ]
  },
  {
   "cell_type": "code",
   "execution_count": 1,
   "metadata": {},
   "outputs": [],
   "source": [
    "import numpy as np\n",
    "import pandas as pd\n",
    "import matplotlib.pyplot as plt\n",
    "from scipy import stats\n",
    "%matplotlib inline"
   ]
  },
  {
   "cell_type": "code",
   "execution_count": 2,
   "metadata": {},
   "outputs": [],
   "source": [
    "x0 = np.array([[ 1.22401313, 2.30868478, 3.03636353, 2.69287214],\n",
    "               [-0.18757272, 1.30337355, 5.12093014, 3.46363202],\n",
    "               [-0.81094525, 1.82463398, 5.79686488, 1.86159445],\n",
    "               [ 0.75129018, 2.67392052, 3.65529809, 1.66746094],\n",
    "               [ 0.00972362, 1.97367255, 2.50594319, 1.69755173],\n",
    "               [-0.62972637, 0.77750764, 2.84124027, 4.54410559],\n",
    "               [ 2.29536229, 1.81206697, 1.95026215, 1.51874636],\n",
    "               [ 0.0920418 , 2.26971361, 7.47708735, 2.61081203],\n",
    "               [ 2.39252799, 3.17563985, 3.61420599, 5.10773362],\n",
    "               [ 0.54983815, 2.87988651, 1.65752765, 1.59635987]])\n",
    "\n",
    "y = np.array([ 9.26193358,  9.700363  ,  8.67214805,  8.74796974,  6.18689108, 7.53312713,  7.57643777, 12.44965478, 14.29010746,  6.68361218])"
   ]
  },
  {
   "cell_type": "code",
   "execution_count": 3,
   "metadata": {},
   "outputs": [
    {
     "data": {
      "text/plain": [
       "array([[ 1.22401313,  2.30868478,  3.03636353,  2.69287214],\n",
       "       [-0.18757272,  1.30337355,  5.12093014,  3.46363202],\n",
       "       [-0.81094525,  1.82463398,  5.79686488,  1.86159445],\n",
       "       [ 0.75129018,  2.67392052,  3.65529809,  1.66746094],\n",
       "       [ 0.00972362,  1.97367255,  2.50594319,  1.69755173],\n",
       "       [-0.62972637,  0.77750764,  2.84124027,  4.54410559],\n",
       "       [ 2.29536229,  1.81206697,  1.95026215,  1.51874636],\n",
       "       [ 0.0920418 ,  2.26971361,  7.47708735,  2.61081203],\n",
       "       [ 2.39252799,  3.17563985,  3.61420599,  5.10773362],\n",
       "       [ 0.54983815,  2.87988651,  1.65752765,  1.59635987]])"
      ]
     },
     "execution_count": 3,
     "metadata": {},
     "output_type": "execute_result"
    }
   ],
   "source": [
    "x0"
   ]
  },
  {
   "cell_type": "code",
   "execution_count": 4,
   "metadata": {},
   "outputs": [],
   "source": [
    "def best_result(x:np.ndarray,y:np.ndarray):\n",
    "    leng = x.shape[0]\n",
    "    ones = np.ones((leng, 1))\n",
    "    x = np.hstack([ones, x])\n",
    "    XTX = x.T.dot(x)\n",
    "    XTX_inv = np.linalg.inv(XTX)\n",
    "    b = XTX_inv.dot(x.T).dot(y)\n",
    "    z = x.dot(b)\n",
    "    e2 = y - z\n",
    "    return 1-e2.var()/y.var()\n"
   ]
  },
  {
   "cell_type": "code",
   "execution_count": 5,
   "metadata": {},
   "outputs": [],
   "source": [
    "from itertools import combinations \n"
   ]
  },
  {
   "cell_type": "code",
   "execution_count": 6,
   "metadata": {},
   "outputs": [
    {
     "name": "stdout",
     "output_type": "stream",
     "text": [
      "1 2 0.18113594742585204\n",
      "1 3 0.7634246238793152\n",
      "1 4 0.45329667831440745\n",
      "2 3 0.5479482734039011\n",
      "2 4 0.6062055761129932\n",
      "3 4 0.6224419876505322\n"
     ]
    }
   ],
   "source": [
    "for i,j in combinations(range(x0.shape[1]),2):\n",
    "    r = best_result(x0[:,[i,j]], y)\n",
    "    print(f'{i+1} {j+1} {r}')"
   ]
  },
  {
   "cell_type": "code",
   "execution_count": 8,
   "metadata": {},
   "outputs": [],
   "source": [
    "n = x0.shape[0] \n",
    "k1 = 2 \n",
    "k2 = n - 2 - 1\n",
    "alpha = 0.05\n",
    "R = best_result(x0[:, [0,2]], y)\n",
    "F = (R/k1)/((1-R)/k2)"
   ]
  },
  {
   "cell_type": "code",
   "execution_count": 9,
   "metadata": {},
   "outputs": [
    {
     "name": "stdout",
     "output_type": "stream",
     "text": [
      "4.73741412777588-oo, 11.29443912292265 - находится в критической области.\n"
     ]
    }
   ],
   "source": [
    "t = stats.f.ppf(1 - alpha, k1, k2)\n",
    "F = (R / k1) / ((1 - R) / k2)\n",
    "print(f'{t}-oo, {F} - находится в критической области.')"
   ]
  },
  {
   "cell_type": "markdown",
   "metadata": {},
   "source": [
    "Данные не значимы, т.к. F больше t (попала в критическую область)"
   ]
  },
  {
   "cell_type": "markdown",
   "metadata": {},
   "source": [
    "## Задача 2\n",
    "\n",
    "Для проведения A/B-тестирования сайта интернет-магазина были получены следующие данные: страница A была посещена 2509 раз, из них 77 закончились совершением покупки, страница B была посещена 1465 раз, 60 из них закончились совершением покупки. Является ли значимым отличие конверсии на страницах A и B?"
   ]
  },
  {
   "cell_type": "code",
   "execution_count": 10,
   "metadata": {},
   "outputs": [
    {
     "data": {
      "text/plain": [
       "(array([1., 1., 1., ..., 0., 0., 0.]),\n",
       " 2509,\n",
       " 0.03068951773614986,\n",
       " array([1., 1., 1., ..., 0., 0., 0.]),\n",
       " 1465,\n",
       " 0.040955631399317405)"
      ]
     },
     "execution_count": 10,
     "metadata": {},
     "output_type": "execute_result"
    }
   ],
   "source": [
    "y = np.zeros(2509)\n",
    "y[np.arange(77)] = 1\n",
    "n = len(y)\n",
    "y_mean = y.mean()\n",
    "\n",
    "y1 = np.zeros(1465)\n",
    "y1[np.arange(60)] = 1\n",
    "y1_mean = np.mean(y1)\n",
    "n1 = len(y1)\n",
    "\n",
    "y, n, y_mean, y1, n1, y1_mean"
   ]
  },
  {
   "cell_type": "code",
   "execution_count": 11,
   "metadata": {},
   "outputs": [
    {
     "data": {
      "text/plain": [
       "(array([1., 1., 1., ..., 0., 0., 0.]), 3974, 0.03447408152994464)"
      ]
     },
     "execution_count": 11,
     "metadata": {},
     "output_type": "execute_result"
    }
   ],
   "source": [
    "y0 = np.concatenate([y, y1])\n",
    "n0 = len(y0)\n",
    "y0_mean = y0.mean()\n",
    "y0, n0, y0_mean"
   ]
  },
  {
   "cell_type": "code",
   "execution_count": 12,
   "metadata": {},
   "outputs": [
    {
     "data": {
      "text/plain": [
       "(0.09748158004016791, 132.17956925035745)"
      ]
     },
     "execution_count": 12,
     "metadata": {},
     "output_type": "execute_result"
    }
   ],
   "source": [
    "SS_b = n * (y_mean - y0_mean) ** 2 + n1 * (y1_mean - y0_mean) ** 2\n",
    "\n",
    "SS_w = ((y - y_mean) ** 2).sum() + ((y1 - y1_mean) ** 2).sum()\n",
    "\n",
    "SS_b, SS_w"
   ]
  },
  {
   "cell_type": "code",
   "execution_count": 13,
   "metadata": {},
   "outputs": [
    {
     "data": {
      "text/plain": [
       "(0.09748158004016791, 0.05272419994031011)"
      ]
     },
     "execution_count": 13,
     "metadata": {},
     "output_type": "execute_result"
    }
   ],
   "source": [
    "k = 2\n",
    "k1 = k - 1\n",
    "k2 = n - k\n",
    "\n",
    "sigma2_b = SS_b / k1\n",
    "sigma2_w = SS_w / k2\n",
    "\n",
    "sigma2_b, sigma2_w"
   ]
  },
  {
   "cell_type": "code",
   "execution_count": 14,
   "metadata": {},
   "outputs": [
    {
     "data": {
      "text/plain": [
       "1.8488963350895478"
      ]
     },
     "execution_count": 14,
     "metadata": {},
     "output_type": "execute_result"
    }
   ],
   "source": [
    "F = sigma2_b / sigma2_w\n",
    "F"
   ]
  },
  {
   "cell_type": "code",
   "execution_count": 15,
   "metadata": {},
   "outputs": [],
   "source": [
    "from scipy import stats"
   ]
  },
  {
   "cell_type": "code",
   "execution_count": 16,
   "metadata": {},
   "outputs": [
    {
     "name": "stdout",
     "output_type": "stream",
     "text": [
      "3.8451707449430548 - oo\n"
     ]
    }
   ],
   "source": [
    "alpha = 0.05\n",
    "t = stats.f.ppf(1-alpha, k1, k2)\n",
    "print(t, '- oo')"
   ]
  },
  {
   "cell_type": "markdown",
   "metadata": {},
   "source": [
    "Значение не попало в критичускую область."
   ]
  },
  {
   "cell_type": "markdown",
   "metadata": {},
   "source": [
    "### Задача 3\n",
    "Квартет Энскомба — популярный в области анализа данных пример наборов данных, у которых практически совпадают все статистические свойства (средние, дисперсии, коэффициенты корреляции, регрессионные линии), однако, существенно отличаются графики. Данный пример призван показать, насколько важна визуализация данных. Датасет представляет собой 4 пары выборок:\n",
    "\n",
    "{ \"x1\": [10.0, 8.0, 13.0, 9.0, 11.0, 14.0, 6.0, 4.0, 12.0, 7.0, 5.0], \"y1\": [8.04, 6.95, 7.58, 8.81, 8.33, 9.96, 7.24, 4.26, 10.84, 4.82, 5.68], \"x2\": [10.0, 8.0, 13.0, 9.0, 11.0, 14.0, 6.0, 4.0, 12.0, 7.0, 5.0], \"y2\": [9.14, 8.14, 8.74, 8.77, 9.26, 8.1, 6.13, 3.1, 9.13, 7.26, 4.74], \"x3\": [10.0, 8.0, 13.0, 9.0, 11.0, 14.0, 6.0, 4.0, 12.0, 7.0, 5.0], \"y3\": [7.46, 6.77, 12.74, 7.11, 7.81, 8.84, 6.08, 5.39, 8.15, 6.42, 5.73], \"x4\": [8.0, 8.0, 8.0, 8.0, 8.0, 8.0, 8.0, 19.0, 8.0, 8.0, 8.0], \"y4\": [6.58, 5.76, 7.71, 8.84, 8.47, 7.04, 5.25, 12.5, 5.56, 7.91, 6.89] }\n",
    "\n",
    "По каждой паре выборок посчитайте:\n",
    "\n",
    "выборочное среднее и дисперсию каждой выборки,\n",
    "коэффициент корреляции Пирсона и прямую линейной регрессии.\n",
    "\n",
    "Убедившись в том, что они не практически не отличаются, постройте scatter plot по каждой паре выборок.\n"
   ]
  },
  {
   "cell_type": "code",
   "execution_count": 17,
   "metadata": {},
   "outputs": [],
   "source": [
    "data = {\"x1\": [10.0, 8.0, 13.0, 9.0, 11.0, 14.0, 6.0, 4.0, 12.0, 7.0, 5.0], \"y1\": [8.04, 6.95, 7.58, 8.81, 8.33, 9.96, 7.24, 4.26, 10.84, 4.82, 5.68], \"x2\": [10.0, 8.0, 13.0, 9.0, 11.0, 14.0, 6.0, 4.0, 12.0, 7.0, 5.0], \"y2\": [9.14, 8.14, 8.74, 8.77, 9.26, 8.1, 6.13, 3.1, 9.13, 7.26, 4.74], \"x3\": [10.0, 8.0, 13.0, 9.0, 11.0, 14.0, 6.0, 4.0, 12.0, 7.0, 5.0], \"y3\": [7.46, 6.77, 12.74, 7.11, 7.81, 8.84, 6.08, 5.39, 8.15, 6.42, 5.73], \"x4\": [8.0, 8.0, 8.0, 8.0, 8.0, 8.0, 8.0, 19.0, 8.0, 8.0, 8.0], \"y4\": [6.58, 5.76, 7.71, 8.84, 8.47, 7.04, 5.25, 12.5, 5.56, 7.91, 6.89]}\n"
   ]
  },
  {
   "cell_type": "code",
   "execution_count": 18,
   "metadata": {},
   "outputs": [
    {
     "data": {
      "text/plain": [
       "(9.0, 9.0, 9.0, 9.0)"
      ]
     },
     "execution_count": 18,
     "metadata": {},
     "output_type": "execute_result"
    }
   ],
   "source": [
    "np.mean(data['x1']), np.mean(data['x2']), np.mean(data['x3']), np.mean(data['x4'])"
   ]
  },
  {
   "cell_type": "code",
   "execution_count": 19,
   "metadata": {},
   "outputs": [
    {
     "data": {
      "text/plain": [
       "(7.500909090909093, 7.50090909090909, 7.5, 7.500909090909091)"
      ]
     },
     "execution_count": 19,
     "metadata": {},
     "output_type": "execute_result"
    }
   ],
   "source": [
    "np.mean(data['y1']), np.mean(data['y2']), np.mean(data['y3']), np.mean(data['y4'])"
   ]
  },
  {
   "cell_type": "code",
   "execution_count": 20,
   "metadata": {},
   "outputs": [
    {
     "data": {
      "text/plain": [
       "(11.0, 11.0, 11.0, 11.0)"
      ]
     },
     "execution_count": 20,
     "metadata": {},
     "output_type": "execute_result"
    }
   ],
   "source": [
    "np.var(data['x1'], ddof = 1), np.var(data['x2'], ddof = 1), np.var(data['x3'], ddof = 1), np.var(data['x4'], ddof = 1)\n"
   ]
  },
  {
   "cell_type": "code",
   "execution_count": 21,
   "metadata": {},
   "outputs": [
    {
     "data": {
      "text/plain": [
       "(4.127269090909091, 4.127629090909091, 4.12262, 4.123249090909091)"
      ]
     },
     "execution_count": 21,
     "metadata": {},
     "output_type": "execute_result"
    }
   ],
   "source": [
    "np.var(data['y1'], ddof = 1), np.var(data['y2'], ddof = 1), np.var(data['y3'], ddof = 1), np.var(data['y4'], ddof = 1)"
   ]
  },
  {
   "cell_type": "code",
   "execution_count": 22,
   "metadata": {},
   "outputs": [
    {
     "data": {
      "text/plain": [
       "0.81642051634484"
      ]
     },
     "execution_count": 22,
     "metadata": {},
     "output_type": "execute_result"
    }
   ],
   "source": [
    "np.corrcoef(data['x1'], data['y1'])[0,1]"
   ]
  },
  {
   "cell_type": "code",
   "execution_count": 23,
   "metadata": {},
   "outputs": [
    {
     "data": {
      "text/plain": [
       "0.8162365060002428"
      ]
     },
     "execution_count": 23,
     "metadata": {},
     "output_type": "execute_result"
    }
   ],
   "source": [
    "np.corrcoef(data['x2'], data['y2'])[0,1]"
   ]
  },
  {
   "cell_type": "code",
   "execution_count": 24,
   "metadata": {},
   "outputs": [
    {
     "data": {
      "text/plain": [
       "0.8162867394895984"
      ]
     },
     "execution_count": 24,
     "metadata": {},
     "output_type": "execute_result"
    }
   ],
   "source": [
    "np.corrcoef(data['x3'], data['y3'])[0,1]"
   ]
  },
  {
   "cell_type": "code",
   "execution_count": 25,
   "metadata": {},
   "outputs": [
    {
     "data": {
      "text/plain": [
       "0.8165214368885028"
      ]
     },
     "execution_count": 25,
     "metadata": {},
     "output_type": "execute_result"
    }
   ],
   "source": [
    "np.corrcoef(data['x4'], data['y4'])[0,1]"
   ]
  },
  {
   "cell_type": "code",
   "execution_count": 26,
   "metadata": {},
   "outputs": [],
   "source": [
    "def sum_of_squares(samples: np.ndarray) -> float:\n",
    "    return ((samples - np.mean(samples)) ** 2).sum()"
   ]
  },
  {
   "cell_type": "code",
   "execution_count": 27,
   "metadata": {},
   "outputs": [
    {
     "name": "stdout",
     "output_type": "stream",
     "text": [
      "0.5000909090909093 3.0000909090909094 \n",
      " 0.5000000000000001 3.000909090909089 \n",
      " 0.49972727272727285 3.002454545454544 \n",
      " 0.49990909090909086 3.0017272727272735\n"
     ]
    }
   ],
   "source": [
    "cov1 = np.cov(data['x1'], data['y1'], ddof = 1)[1,0]/np.var(data['x1'], ddof = 1)\n",
    "lr1 = np.mean(data['y1']) - cov1*(np.mean(data['x1']))\n",
    "cov1, lr1\n",
    "cov2 = np.cov(data['x2'], data['y2'], ddof = 1)[1,0]/np.var(data['x2'], ddof = 1)\n",
    "lr2 = np.mean(data['y2']) - cov2*(np.mean(data['x2']))\n",
    "cov2, lr2\n",
    "cov3 = np.cov(data['x3'], data['y3'], ddof = 1)[1,0]/np.var(data['x3'], ddof = 1)\n",
    "lr3 = np.mean(data['y3']) - cov3*(np.mean(data['x3']))\n",
    "cov3, lr3\n",
    "cov4 = np.cov(data['x4'], data['y4'], ddof = 1)[1,0]/np.var(data['x4'], ddof = 1)\n",
    "lr4 = np.mean(data['y4']) - cov4*(np.mean(data['x4']))\n",
    "print(cov1, lr1, '\\n' , cov2, lr2, '\\n' ,cov3, lr3, '\\n' ,cov4, lr4)"
   ]
  },
  {
   "cell_type": "code",
   "execution_count": 28,
   "metadata": {},
   "outputs": [
    {
     "data": {
      "text/plain": [
       "<matplotlib.collections.PathCollection at 0x23f423486a0>"
      ]
     },
     "execution_count": 28,
     "metadata": {},
     "output_type": "execute_result"
    },
    {
     "data": {
      "image/png": "[encoded data removed]",
      "text/plain": [
       "<Figure size 432x288 with 1 Axes>"
      ]
     },
     "metadata": {
      "needs_background": "light"
     },
     "output_type": "display_data"
    }
   ],
   "source": [
    "plt.scatter(data['x1'],data['y1'])\n",
    "plt.scatter(data['x2'],data['y2'])\n",
    "plt.scatter(data['x3'],data['y3'])\n",
    "plt.scatter(data['x4'],data['y4'])\n"
   ]
  },
  {
   "cell_type": "code",
   "execution_count": 29,
   "metadata": {},
   "outputs": [
    {
     "data": {
      "text/plain": [
       "<matplotlib.collections.PathCollection at 0x23f433b3a20>"
      ]
     },
     "execution_count": 29,
     "metadata": {},
     "output_type": "execute_result"
    },
    {
     "data": {
      "image/png": "[encoded data removed]",
      "text/plain": [
       "<Figure size 432x288 with 1 Axes>"
      ]
     },
     "metadata": {
      "needs_background": "light"
     },
     "output_type": "display_data"
    }
   ],
   "source": [
    "plt.scatter(data['x1'],data['y1'])\n"
   ]
  },
  {
   "cell_type": "code",
   "execution_count": 30,
   "metadata": {},
   "outputs": [
    {
     "data": {
      "text/plain": [
       "<matplotlib.collections.PathCollection at 0x23f4341ea58>"
      ]
     },
     "execution_count": 30,
     "metadata": {},
     "output_type": "execute_result"
    },
    {
     "data": {
      "image/png": "[encoded data removed]",
      "text/plain": [
       "<Figure size 432x288 with 1 Axes>"
      ]
     },
     "metadata": {
      "needs_background": "light"
     },
     "output_type": "display_data"
    }
   ],
   "source": [
    "plt.scatter(data['x2'],data['y2'])\n"
   ]
  },
  {
   "cell_type": "code",
   "execution_count": 31,
   "metadata": {},
   "outputs": [
    {
     "data": {
      "text/plain": [
       "<matplotlib.collections.PathCollection at 0x23f43477f60>"
      ]
     },
     "execution_count": 31,
     "metadata": {},
     "output_type": "execute_result"
    },
    {
     "data": {
      "image/png": "[encoded data removed]",
      "text/plain": [
       "<Figure size 432x288 with 1 Axes>"
      ]
     },
     "metadata": {
      "needs_background": "light"
     },
     "output_type": "display_data"
    }
   ],
   "source": [
    "plt.scatter(data['x3'],data['y3'])\n"
   ]
  },
  {
   "cell_type": "code",
   "execution_count": 32,
   "metadata": {},
   "outputs": [
    {
     "data": {
      "text/plain": [
       "<matplotlib.collections.PathCollection at 0x23f434dcac8>"
      ]
     },
     "execution_count": 32,
     "metadata": {},
     "output_type": "execute_result"
    },
    {
     "data": {
      "image/png": "[encoded data removed]",
      "text/plain": [
       "<Figure size 432x288 with 1 Axes>"
      ]
     },
     "metadata": {
      "needs_background": "light"
     },
     "output_type": "display_data"
    }
   ],
   "source": [
    "plt.scatter(data['x4'],data['y4'])\n"
   ]
  }
 ],
 "metadata": {
  "kernelspec": {
   "display_name": "Python 3",
   "language": "python",
   "name": "python3"
  },
  "language_info": {
   "codemirror_mode": {
    "name": "ipython",
    "version": 3
   },
   "file_extension": ".py",
   "mimetype": "text/x-python",
   "name": "python",
   "nbconvert_exporter": "python",
   "pygments_lexer": "ipython3",
   "version": "3.7.3"
  }
 },
 "nbformat": 4,
 "nbformat_minor": 4
}
